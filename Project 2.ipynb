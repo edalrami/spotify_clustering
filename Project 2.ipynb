{
 "cells": [
  {
   "cell_type": "markdown",
   "metadata": {
    "collapsed": true
   },
   "source": [
    "<p class=\"pull-left\">\n",
    "ANLT 212 - Analytics Computing\n",
    "</p>\n",
    "<div class=\"pull-right\">\n",
    "<ul class=\"list-inline\">\n",
    "Copyright © Dana Nehoran 2017\n",
    "</ul>\n",
    "</div>"
   ]
  },
  {
   "cell_type": "markdown",
   "metadata": {},
   "source": [
    "<div style=\"background-color: #A378AF; border:1px solid #000; margin-left: 2px; margin-right: 2px; \n",
    "padding-bottom: 2px; padding-left: 2px; padding-right: 1px; padding-top: 10px;\">\n",
    "<center><b><font size=\"6\">Group Project 2 - Python Project</font></b></center>\n",
    "</div>"
   ]
  },
  {
   "cell_type": "markdown",
   "metadata": {},
   "source": [
    "Student Names:"
   ]
  },
  {
   "cell_type": "markdown",
   "metadata": {
    "collapsed": true
   },
   "source": [
    "<center><font size = 10>Tyler Norlund & Edwin Ramirez</font></center>"
   ]
  },
  {
   "cell_type": "markdown",
   "metadata": {},
   "source": [
    "<blockquote style=\"border: 2px solid #666; padding: 10px; background-color: #acc;\"><b>Question 1:</b> Project Definition</blockquote> "
   ]
  },
  {
   "cell_type": "markdown",
   "metadata": {},
   "source": [
    "Select a dataset from the UCI Machine Learning Repository \n",
    "http://archive.ics.uci.edu/ml/datasets.html\n",
    "Your dataset should be different from the one utilized on project 1. \n",
    "\n",
    "Describe your stakeholder. Who is the potential sponsor of your project? For example: a real estate investor, the police department, a city mayor, etc. Explain what is the objective of this project and its justification. What are the findings so far, and what is your objective.\n",
    "\n",
    "Note: <br>\n",
    "If you want to select a dataset from a different public repository, you can.\n"
   ]
  },
  {
   "cell_type": "markdown",
   "metadata": {
    "collapsed": true
   },
   "source": [
    "<b><font color=\"blue\" size = 4>a)</font> Data Selection</b>: Explain why this data was selected. What are the overall characteristics of the data."
   ]
  },
  {
   "cell_type": "markdown",
   "metadata": {},
   "source": [
    "<span style=\"background-color: #FFFF00\">Your answer here</span>"
   ]
  },
  {
   "cell_type": "markdown",
   "metadata": {},
   "source": [
    "In this project, we use the [Spotify API](https://developer.spotify.com/). This was done in python using the [Spotipy](https://spotipy.readthedocs.io/en/latest/#) python library. Using python, we obtained Spotify's top playlists."
   ]
  },
  {
   "cell_type": "code",
   "execution_count": 6,
   "metadata": {},
   "outputs": [
    {
     "name": "stdout",
     "output_type": "stream",
     "text": [
      "spotify_df:\n",
      "Index(['Unnamed: 0', 'acousticness', 'danceability', 'duration_ms', 'energy',\n",
      "       'instrumentalness', 'key', 'liveness', 'loudness', 'mode',\n",
      "       'speechiness', 'tempo', 'time_signature', 'valence', 'target',\n",
      "       'artist'],\n",
      "      dtype='object')\n",
      "spotify_df:\n",
      "                                              Unnamed: 0  acousticness  \\\n",
      "song_title                                                               \n",
      "Mask Off                                               0      0.010200   \n",
      "Redbone                                                1      0.199000   \n",
      "Xanny Family                                           2      0.034400   \n",
      "Master Of None                                         3      0.604000   \n",
      "Parallel Lines                                         4      0.180000   \n",
      "Sneakin’                                               5      0.004790   \n",
      "Childs Play                                            6      0.014500   \n",
      "Gyöngyhajú lány                                        7      0.020200   \n",
      "I've Seen Footage                                      8      0.048100   \n",
      "Digital Animal                                         9      0.002080   \n",
      "Subways - In Flagranti Extended Edit                  10      0.057200   \n",
      "Donme Dolap - Baris K Edit                            11      0.091500   \n",
      "Cemalim                                               12      0.253000   \n",
      "One Night                                             13      0.366000   \n",
      "Oh lala                                               14      0.440000   \n",
      "Char                                                  15      0.019000   \n",
      "World In Motion                                       16      0.023900   \n",
      "One Nation Under a Groove                             17      0.233000   \n",
      "Bouncin                                               18      0.314000   \n",
      "C O O L - Radio Edit                                  19      0.024200   \n",
      "Percolator (Jamie Jones Vault Mix) - mixed            20      0.000702   \n",
      "House of Jealous Lovers                               21      0.000240   \n",
      "Imma Ride                                             22      0.118000   \n",
      "Girlfriend                                            23      0.000596   \n",
      "If I Gave You My Love                                 24      0.279000   \n",
      "This Ready Flesh                                      25      0.002190   \n",
      "Lose My Mind                                          26      0.341000   \n",
      "Char                                                  27      0.018000   \n",
      "Look Alive                                            28      0.051600   \n",
      "Please Stop Making Fake Versace                       29      0.282000   \n",
      "...                                                  ...           ...   \n",
      "Work This Body                                      1987      0.028300   \n",
      "Tightrope                                           1988      0.000084   \n",
      "Different Colors                                    1989      0.000797   \n",
      "Avalanche                                           1990      0.000590   \n",
      "Jenny                                               1991      0.000366   \n",
      "Portugal                                            1992      0.007490   \n",
      "Quesadilla                                          1993      0.001900   \n",
      "Aquaman                                             1994      0.510000   \n",
      "Paris - Pegboard Nerds Remix                        1995      0.020200   \n",
      "Quit You - Wuki Remix                               1996      0.003630   \n",
      "Don't Let Me Down - Zomboy Remix                    1997      0.000870   \n",
      "Faded - Slushii Remix                               1998      0.031600   \n",
      "Can't Get Enough - Pegboard Nerds Remix             1999      0.004990   \n",
      "Light - Loosid Remix                                2000      0.093500   \n",
      "Something Just Like This - ARMNHMR Remix            2001      0.002620   \n",
      "Without U                                           2002      0.030100   \n",
      "Hold Up                                             2003      0.000461   \n",
      "Phone Down - Dodge & Fuski Remix                    2004      0.096900   \n",
      "Spoon Me - Slushii Remix                            2005      0.021600   \n",
      "Scared To Be Lonely (Conro Remix)                   2006      0.178000   \n",
      "Let It Go - Scott Melker & Mister Gray Remix        2007      0.002170   \n",
      "Call On Me - EDWYNN X TIKAL, Spirix Remix           2008      0.054100   \n",
      "Aamon                                               2009      0.004990   \n",
      "Hey Baby - Steve Aoki Remix                         2010      0.002310   \n",
      "Brightside - Borgeous Remix                         2011      0.000586   \n",
      "Like A Bitch - Kill The Noise Remix                 2012      0.001060   \n",
      "Candy                                               2013      0.087700   \n",
      "Habit - Dack Janiels & Wenzday Remix                2014      0.008570   \n",
      "First Contact                                       2015      0.001640   \n",
      "I Wanna Get Better                                  2016      0.002810   \n",
      "\n",
      "                                              danceability  duration_ms  \\\n",
      "song_title                                                                \n",
      "Mask Off                                             0.833       204600   \n",
      "Redbone                                              0.743       326933   \n",
      "Xanny Family                                         0.838       185707   \n",
      "Master Of None                                       0.494       199413   \n",
      "Parallel Lines                                       0.678       392893   \n",
      "Sneakin’                                             0.804       251333   \n",
      "Childs Play                                          0.739       241400   \n",
      "Gyöngyhajú lány                                      0.266       349667   \n",
      "I've Seen Footage                                    0.603       202853   \n",
      "Digital Animal                                       0.836       226840   \n",
      "Subways - In Flagranti Extended Edit                 0.525       358187   \n",
      "Donme Dolap - Baris K Edit                           0.753       324880   \n",
      "Cemalim                                              0.603       356973   \n",
      "One Night                                            0.762       243270   \n",
      "Oh lala                                              0.662       247288   \n",
      "Char                                                 0.637       188333   \n",
      "World In Motion                                      0.603       270827   \n",
      "One Nation Under a Groove                            0.789       447907   \n",
      "Bouncin                                              0.713       195429   \n",
      "C O O L - Radio Edit                                 0.735       214347   \n",
      "Percolator (Jamie Jones Vault Mix) - mixed           0.854       249253   \n",
      "House of Jealous Lovers                              0.747       307680   \n",
      "Imma Ride                                            0.854       287086   \n",
      "Girlfriend                                           0.224       132760   \n",
      "If I Gave You My Love                                0.512       203400   \n",
      "This Ready Flesh                                     0.781       205160   \n",
      "Lose My Mind                                         0.411       199500   \n",
      "Char                                                 0.646       188333   \n",
      "Look Alive                                           0.782       228562   \n",
      "Please Stop Making Fake Versace                      0.735       186096   \n",
      "...                                                    ...          ...   \n",
      "Work This Body                                       0.421       175907   \n",
      "Tightrope                                            0.467       209187   \n",
      "Different Colors                                     0.480       222053   \n",
      "Avalanche                                            0.594       218720   \n",
      "Jenny                                                0.544       245133   \n",
      "Portugal                                             0.446       241253   \n",
      "Quesadilla                                           0.551       195280   \n",
      "Aquaman                                              0.630       240000   \n",
      "Paris - Pegboard Nerds Remix                         0.333       174240   \n",
      "Quit You - Wuki Remix                                0.743       259889   \n",
      "Don't Let Me Down - Zomboy Remix                     0.465       265600   \n",
      "Faded - Slushii Remix                                0.680       211853   \n",
      "Can't Get Enough - Pegboard Nerds Remix              0.619       245656   \n",
      "Light - Loosid Remix                                 0.520       231667   \n",
      "Something Just Like This - ARMNHMR Remix             0.484       224320   \n",
      "Without U                                            0.583       224092   \n",
      "Hold Up                                              0.562       201031   \n",
      "Phone Down - Dodge & Fuski Remix                     0.595       198400   \n",
      "Spoon Me - Slushii Remix                             0.526       216072   \n",
      "Scared To Be Lonely (Conro Remix)                    0.501       202839   \n",
      "Let It Go - Scott Melker & Mister Gray Remix         0.639       296276   \n",
      "Call On Me - EDWYNN X TIKAL, Spirix Remix            0.646       160408   \n",
      "Aamon                                                0.595       224000   \n",
      "Hey Baby - Steve Aoki Remix                          0.624       206013   \n",
      "Brightside - Borgeous Remix                          0.528       245053   \n",
      "Like A Bitch - Kill The Noise Remix                  0.584       274404   \n",
      "Candy                                                0.894       182182   \n",
      "Habit - Dack Janiels & Wenzday Remix                 0.637       207200   \n",
      "First Contact                                        0.557       185600   \n",
      "I Wanna Get Better                                   0.446       204520   \n",
      "\n",
      "                                              energy  instrumentalness  key  \\\n",
      "song_title                                                                    \n",
      "Mask Off                                       0.434          0.021900    2   \n",
      "Redbone                                        0.359          0.006110    1   \n",
      "Xanny Family                                   0.412          0.000234    2   \n",
      "Master Of None                                 0.338          0.510000    5   \n",
      "Parallel Lines                                 0.561          0.512000    5   \n",
      "Sneakin’                                       0.560          0.000000    8   \n",
      "Childs Play                                    0.472          0.000007    1   \n",
      "Gyöngyhajú lány                                0.348          0.664000   10   \n",
      "I've Seen Footage                              0.944          0.000000   11   \n",
      "Digital Animal                                 0.603          0.000000    7   \n",
      "Subways - In Flagranti Extended Edit           0.855          0.014300    5   \n",
      "Donme Dolap - Baris K Edit                     0.748          0.003480   10   \n",
      "Cemalim                                        0.434          0.061900    0   \n",
      "One Night                                      0.476          0.000000    0   \n",
      "Oh lala                                        0.603          0.000000    9   \n",
      "Char                                           0.832          0.056300    6   \n",
      "World In Motion                                0.955          0.045100    1   \n",
      "One Nation Under a Groove                      0.659          0.000490    4   \n",
      "Bouncin                                        0.611          0.000000    1   \n",
      "C O O L - Radio Edit                           0.759          0.185000    1   \n",
      "Percolator (Jamie Jones Vault Mix) - mixed     0.719          0.308000   10   \n",
      "House of Jealous Lovers                        0.740          0.369000    1   \n",
      "Imma Ride                                      0.401          0.000000    9   \n",
      "Girlfriend                                     0.925          0.000001   11   \n",
      "If I Gave You My Love                          0.564          0.000015   10   \n",
      "This Ready Flesh                               0.795          0.269000    7   \n",
      "Lose My Mind                                   0.684          0.000001   11   \n",
      "Char                                           0.837          0.040300    6   \n",
      "Look Alive                                     0.572          0.000000    4   \n",
      "Please Stop Making Fake Versace                0.400          0.125000    1   \n",
      "...                                              ...               ...  ...   \n",
      "Work This Body                                 0.831          0.000000    4   \n",
      "Tightrope                                      0.794          0.002040    1   \n",
      "Different Colors                               0.826          0.000001    0   \n",
      "Avalanche                                      0.858          0.000003    9   \n",
      "Jenny                                          0.788          0.000000    5   \n",
      "Portugal                                       0.881          0.000000    2   \n",
      "Quesadilla                                     0.732          0.000000    9   \n",
      "Aquaman                                        0.772          0.000023    1   \n",
      "Paris - Pegboard Nerds Remix                   0.913          0.000000    2   \n",
      "Quit You - Wuki Remix                          0.889          0.143000   10   \n",
      "Don't Let Me Down - Zomboy Remix               0.953          0.014600    8   \n",
      "Faded - Slushii Remix                          0.725          0.000018    6   \n",
      "Can't Get Enough - Pegboard Nerds Remix        0.949          0.000418    6   \n",
      "Light - Loosid Remix                           0.809          0.003500    1   \n",
      "Something Just Like This - ARMNHMR Remix       0.609          0.000000   11   \n",
      "Without U                                      0.891          0.000003    7   \n",
      "Hold Up                                        0.960          0.038300    9   \n",
      "Phone Down - Dodge & Fuski Remix               0.975          0.000000    8   \n",
      "Spoon Me - Slushii Remix                       0.825          0.000001    5   \n",
      "Scared To Be Lonely (Conro Remix)              0.683          0.000003    1   \n",
      "Let It Go - Scott Melker & Mister Gray Remix   0.978          0.112000   11   \n",
      "Call On Me - EDWYNN X TIKAL, Spirix Remix      0.714          0.000000    0   \n",
      "Aamon                                          0.837          0.035900    1   \n",
      "Hey Baby - Steve Aoki Remix                    0.971          0.121000    6   \n",
      "Brightside - Borgeous Remix                    0.879          0.004890    6   \n",
      "Like A Bitch - Kill The Noise Remix            0.932          0.002690    1   \n",
      "Candy                                          0.892          0.001670    1   \n",
      "Habit - Dack Janiels & Wenzday Remix           0.935          0.003990    0   \n",
      "First Contact                                  0.992          0.677000    1   \n",
      "I Wanna Get Better                             0.915          0.000039    9   \n",
      "\n",
      "                                              liveness  loudness  mode  \\\n",
      "song_title                                                               \n",
      "Mask Off                                        0.1650    -8.795     1   \n",
      "Redbone                                         0.1370   -10.401     1   \n",
      "Xanny Family                                    0.1590    -7.148     1   \n",
      "Master Of None                                  0.0922   -15.236     1   \n",
      "Parallel Lines                                  0.4390   -11.648     0   \n",
      "Sneakin’                                        0.1640    -6.682     1   \n",
      "Childs Play                                     0.2070   -11.204     1   \n",
      "Gyöngyhajú lány                                 0.1600   -11.609     0   \n",
      "I've Seen Footage                               0.3420    -3.626     0   \n",
      "Digital Animal                                  0.5710    -7.792     1   \n",
      "Subways - In Flagranti Extended Edit            0.6490    -7.372     0   \n",
      "Donme Dolap - Baris K Edit                      0.2120    -8.620     1   \n",
      "Cemalim                                         0.1080   -11.062     1   \n",
      "One Night                                       0.1030   -12.686     1   \n",
      "Oh lala                                         0.0972    -8.317     0   \n",
      "Char                                            0.3160    -6.637     1   \n",
      "World In Motion                                 0.1190    -4.111     1   \n",
      "One Nation Under a Groove                       0.1840   -12.654     0   \n",
      "Bouncin                                         0.1170    -6.702     0   \n",
      "C O O L - Radio Edit                            0.0966    -6.914     0   \n",
      "Percolator (Jamie Jones Vault Mix) - mixed      0.4280    -9.335     0   \n",
      "House of Jealous Lovers                         0.0995    -4.134     1   \n",
      "Imma Ride                                       0.5270    -8.553     1   \n",
      "Girlfriend                                      0.0663    -1.710     0   \n",
      "If I Gave You My Love                           0.1330    -5.892     1   \n",
      "This Ready Flesh                                0.0673    -6.758     1   \n",
      "Lose My Mind                                    0.1980    -6.889     0   \n",
      "Char                                            0.3160    -6.615     1   \n",
      "Look Alive                                      0.3300    -7.467     0   \n",
      "Please Stop Making Fake Versace                 0.0811   -12.766     1   \n",
      "...                                                ...       ...   ...   \n",
      "Work This Body                                  0.4640    -5.128     1   \n",
      "Tightrope                                       0.1030    -6.174     0   \n",
      "Different Colors                                0.1250    -4.602     1   \n",
      "Avalanche                                       0.0642    -4.339     1   \n",
      "Jenny                                           0.1410    -5.593     0   \n",
      "Portugal                                        0.1300    -4.368     1   \n",
      "Quesadilla                                      0.0764    -6.081     1   \n",
      "Aquaman                                         0.0881    -6.986     1   \n",
      "Paris - Pegboard Nerds Remix                    0.1460    -3.722     1   \n",
      "Quit You - Wuki Remix                           0.3830    -5.567     1   \n",
      "Don't Let Me Down - Zomboy Remix                0.2260    -4.684     0   \n",
      "Faded - Slushii Remix                           0.1120    -3.920     1   \n",
      "Can't Get Enough - Pegboard Nerds Remix         0.1790    -4.640     0   \n",
      "Light - Loosid Remix                            0.0939    -4.180     1   \n",
      "Something Just Like This - ARMNHMR Remix        0.3390    -5.652     0   \n",
      "Without U                                       0.1290    -3.495     1   \n",
      "Hold Up                                         0.7160    -2.981     1   \n",
      "Phone Down - Dodge & Fuski Remix                0.1020    -2.339     0   \n",
      "Spoon Me - Slushii Remix                        0.4260    -3.506     0   \n",
      "Scared To Be Lonely (Conro Remix)               0.3850    -4.261     0   \n",
      "Let It Go - Scott Melker & Mister Gray Remix    0.0838    -2.376     1   \n",
      "Call On Me - EDWYNN X TIKAL, Spirix Remix       0.1340    -6.511     1   \n",
      "Aamon                                           0.1010    -6.011     1   \n",
      "Hey Baby - Steve Aoki Remix                     0.2550    -0.935     0   \n",
      "Brightside - Borgeous Remix                     0.0432    -5.891     0   \n",
      "Like A Bitch - Kill The Noise Remix             0.1290    -3.501     1   \n",
      "Candy                                           0.0528    -2.663     1   \n",
      "Habit - Dack Janiels & Wenzday Remix            0.2140    -2.467     1   \n",
      "First Contact                                   0.0913    -2.735     1   \n",
      "I Wanna Get Better                              0.2180    -6.221     1   \n",
      "\n",
      "                                              speechiness    tempo  \\\n",
      "song_title                                                           \n",
      "Mask Off                                           0.4310  150.062   \n",
      "Redbone                                            0.0794  160.083   \n",
      "Xanny Family                                       0.2890   75.044   \n",
      "Master Of None                                     0.0261   86.468   \n",
      "Parallel Lines                                     0.0694  174.004   \n",
      "Sneakin’                                           0.1850   85.023   \n",
      "Childs Play                                        0.1560   80.030   \n",
      "Gyöngyhajú lány                                    0.0371  144.154   \n",
      "I've Seen Footage                                  0.3470  130.035   \n",
      "Digital Animal                                     0.2370   99.994   \n",
      "Subways - In Flagranti Extended Edit               0.0548  111.951   \n",
      "Donme Dolap - Baris K Edit                         0.0494  104.322   \n",
      "Cemalim                                            0.0342  127.681   \n",
      "One Night                                          0.1140  130.007   \n",
      "Oh lala                                            0.0793  125.011   \n",
      "Char                                               0.1630   99.988   \n",
      "World In Motion                                    0.0458  123.922   \n",
      "One Nation Under a Groove                          0.0429  122.415   \n",
      "Bouncin                                            0.2410  140.061   \n",
      "C O O L - Radio Edit                               0.0449  109.982   \n",
      "Percolator (Jamie Jones Vault Mix) - mixed         0.0655  128.049   \n",
      "House of Jealous Lovers                            0.0323  130.031   \n",
      "Imma Ride                                          0.3950  139.922   \n",
      "Girlfriend                                         0.0834  138.022   \n",
      "If I Gave You My Love                              0.0316   94.498   \n",
      "This Ready Flesh                                   0.0360  109.977   \n",
      "Lose My Mind                                       0.3830  110.016   \n",
      "Char                                               0.1340  100.040   \n",
      "Look Alive                                         0.0385  120.021   \n",
      "Please Stop Making Fake Versace                    0.1020  129.004   \n",
      "...                                                   ...      ...   \n",
      "Work This Body                                     0.1070  134.027   \n",
      "Tightrope                                          0.0349  162.435   \n",
      "Different Colors                                   0.0397   96.000   \n",
      "Avalanche                                          0.0387  138.021   \n",
      "Jenny                                              0.0474  148.121   \n",
      "Portugal                                           0.0545  169.889   \n",
      "Quesadilla                                         0.0627  145.107   \n",
      "Aquaman                                            0.0297   99.964   \n",
      "Paris - Pegboard Nerds Remix                       0.0808   99.889   \n",
      "Quit You - Wuki Remix                              0.0409  103.963   \n",
      "Don't Let Me Down - Zomboy Remix                   0.2950  160.064   \n",
      "Faded - Slushii Remix                              0.0611  140.048   \n",
      "Can't Get Enough - Pegboard Nerds Remix            0.0658  149.935   \n",
      "Light - Loosid Remix                               0.0500  170.032   \n",
      "Something Just Like This - ARMNHMR Remix           0.0303  131.049   \n",
      "Without U                                          0.4470  149.843   \n",
      "Hold Up                                            0.0692  159.927   \n",
      "Phone Down - Dodge & Fuski Remix                   0.3640  150.001   \n",
      "Spoon Me - Slushii Remix                           0.0875  150.181   \n",
      "Scared To Be Lonely (Conro Remix)                  0.0651  154.901   \n",
      "Let It Go - Scott Melker & Mister Gray Remix       0.0730  144.986   \n",
      "Call On Me - EDWYNN X TIKAL, Spirix Remix          0.0378   97.957   \n",
      "Aamon                                              0.0696  149.964   \n",
      "Hey Baby - Steve Aoki Remix                        0.0643  102.003   \n",
      "Brightside - Borgeous Remix                        0.1200  128.268   \n",
      "Like A Bitch - Kill The Noise Remix                0.3330   74.976   \n",
      "Candy                                              0.1310  110.041   \n",
      "Habit - Dack Janiels & Wenzday Remix               0.1070  150.082   \n",
      "First Contact                                      0.1330  150.011   \n",
      "I Wanna Get Better                                 0.1410  190.013   \n",
      "\n",
      "                                              time_signature  valence  target  \\\n",
      "song_title                                                                      \n",
      "Mask Off                                                 4.0    0.286       1   \n",
      "Redbone                                                  4.0    0.588       1   \n",
      "Xanny Family                                             4.0    0.173       1   \n",
      "Master Of None                                           4.0    0.230       1   \n",
      "Parallel Lines                                           4.0    0.904       1   \n",
      "Sneakin’                                                 4.0    0.264       1   \n",
      "Childs Play                                              4.0    0.308       1   \n",
      "Gyöngyhajú lány                                          4.0    0.393       1   \n",
      "I've Seen Footage                                        4.0    0.398       1   \n",
      "Digital Animal                                           4.0    0.386       1   \n",
      "Subways - In Flagranti Extended Edit                     3.0    0.524       1   \n",
      "Donme Dolap - Baris K Edit                               4.0    0.642       1   \n",
      "Cemalim                                                  4.0    0.381       1   \n",
      "One Night                                                4.0    0.367       1   \n",
      "Oh lala                                                  4.0    0.351       1   \n",
      "Char                                                     4.0    0.317       1   \n",
      "World In Motion                                          4.0    0.773       1   \n",
      "One Nation Under a Groove                                4.0    0.842       1   \n",
      "Bouncin                                                  4.0    0.783       1   \n",
      "C O O L - Radio Edit                                     4.0    0.763       1   \n",
      "Percolator (Jamie Jones Vault Mix) - mixed               4.0    0.471       1   \n",
      "House of Jealous Lovers                                  4.0    0.770       1   \n",
      "Imma Ride                                                4.0    0.441       1   \n",
      "Girlfriend                                               4.0    0.364       1   \n",
      "If I Gave You My Love                                    4.0    0.401       1   \n",
      "This Ready Flesh                                         4.0    0.795       1   \n",
      "Lose My Mind                                             4.0    0.598       1   \n",
      "Char                                                     4.0    0.320       1   \n",
      "Look Alive                                               4.0    0.237       1   \n",
      "Please Stop Making Fake Versace                          4.0    0.326       1   \n",
      "...                                                      ...      ...     ...   \n",
      "Work This Body                                           4.0    0.489       0   \n",
      "Tightrope                                                4.0    0.577       0   \n",
      "Different Colors                                         4.0    0.701       0   \n",
      "Avalanche                                                4.0    0.646       0   \n",
      "Jenny                                                    4.0    0.821       0   \n",
      "Portugal                                                 4.0    0.428       0   \n",
      "Quesadilla                                               4.0    0.628       0   \n",
      "Aquaman                                                  4.0    0.714       0   \n",
      "Paris - Pegboard Nerds Remix                             4.0    0.129       0   \n",
      "Quit You - Wuki Remix                                    4.0    0.186       0   \n",
      "Don't Let Me Down - Zomboy Remix                         4.0    0.554       0   \n",
      "Faded - Slushii Remix                                    4.0    0.260       0   \n",
      "Can't Get Enough - Pegboard Nerds Remix                  4.0    0.257       0   \n",
      "Light - Loosid Remix                                     4.0    0.362       0   \n",
      "Something Just Like This - ARMNHMR Remix                 4.0    0.266       0   \n",
      "Without U                                                4.0    0.321       0   \n",
      "Hold Up                                                  4.0    0.311       0   \n",
      "Phone Down - Dodge & Fuski Remix                         4.0    0.183       0   \n",
      "Spoon Me - Slushii Remix                                 4.0    0.108       0   \n",
      "Scared To Be Lonely (Conro Remix)                        4.0    0.307       0   \n",
      "Let It Go - Scott Melker & Mister Gray Remix             4.0    0.494       0   \n",
      "Call On Me - EDWYNN X TIKAL, Spirix Remix                4.0    0.589       0   \n",
      "Aamon                                                    4.0    0.331       0   \n",
      "Hey Baby - Steve Aoki Remix                              4.0    0.442       0   \n",
      "Brightside - Borgeous Remix                              4.0    0.327       0   \n",
      "Like A Bitch - Kill The Noise Remix                      4.0    0.211       0   \n",
      "Candy                                                    4.0    0.867       0   \n",
      "Habit - Dack Janiels & Wenzday Remix                     4.0    0.470       0   \n",
      "First Contact                                            4.0    0.623       0   \n",
      "I Wanna Get Better                                       4.0    0.402       0   \n",
      "\n",
      "                                                                 artist  \n",
      "song_title                                                               \n",
      "Mask Off                                                         Future  \n",
      "Redbone                                                Childish Gambino  \n",
      "Xanny Family                                                     Future  \n",
      "Master Of None                                              Beach House  \n",
      "Parallel Lines                                              Junior Boys  \n",
      "Sneakin’                                                          Drake  \n",
      "Childs Play                                                       Drake  \n",
      "Gyöngyhajú lány                                                   Omega  \n",
      "I've Seen Footage                                           Death Grips  \n",
      "Digital Animal                                              Honey Claws  \n",
      "Subways - In Flagranti Extended Edit                     The Avalanches  \n",
      "Donme Dolap - Baris K Edit                           Modern Folk Üçlüsü  \n",
      "Cemalim                                                     Erkin Koray  \n",
      "One Night                                                    Lil Yachty  \n",
      "Oh lala                                                             PNL  \n",
      "Char                                                    Crystal Castles  \n",
      "World In Motion                                               New Order  \n",
      "One Nation Under a Groove                                    Funkadelic  \n",
      "Bouncin                                                      Chief Keef  \n",
      "C O O L - Radio Edit                                           Le Youth  \n",
      "Percolator (Jamie Jones Vault Mix) - mixed                      Cajmere  \n",
      "House of Jealous Lovers                                     The Rapture  \n",
      "Imma Ride                                                    Young Thug  \n",
      "Girlfriend                                                    Ty Segall  \n",
      "If I Gave You My Love                                         Myron & E  \n",
      "This Ready Flesh                                                  TR/ST  \n",
      "Lose My Mind                                                     A-Trak  \n",
      "Char                                                    Crystal Castles  \n",
      "Look Alive                                                 Rae Sremmurd  \n",
      "Please Stop Making Fake Versace                                  Father  \n",
      "...                                                                 ...  \n",
      "Work This Body                                            WALK THE MOON  \n",
      "Tightrope                                                 WALK THE MOON  \n",
      "Different Colors                                          WALK THE MOON  \n",
      "Avalanche                                                 WALK THE MOON  \n",
      "Jenny                                                     WALK THE MOON  \n",
      "Portugal                                                  WALK THE MOON  \n",
      "Quesadilla                                                WALK THE MOON  \n",
      "Aquaman                                                   WALK THE MOON  \n",
      "Paris - Pegboard Nerds Remix                           The Chainsmokers  \n",
      "Quit You - Wuki Remix                                        Lost Kings  \n",
      "Don't Let Me Down - Zomboy Remix                       The Chainsmokers  \n",
      "Faded - Slushii Remix                                       Alan Walker  \n",
      "Can't Get Enough - Pegboard Nerds Remix                 Tommie Sunshine  \n",
      "Light - Loosid Remix                                           San Holo  \n",
      "Something Just Like This - ARMNHMR Remix               The Chainsmokers  \n",
      "Without U                                                    Steve Aoki  \n",
      "Hold Up                                                        Borgeous  \n",
      "Phone Down - Dodge & Fuski Remix                             Lost Kings  \n",
      "Spoon Me - Slushii Remix                                      Elliphant  \n",
      "Scared To Be Lonely (Conro Remix)                         Martin Garrix  \n",
      "Let It Go - Scott Melker & Mister Gray Remix                      NERVO  \n",
      "Call On Me - EDWYNN X TIKAL, Spirix Remix                       Starley  \n",
      "Aamon                                                             Kuuro  \n",
      "Hey Baby - Steve Aoki Remix                   Dimitri Vegas & Like Mike  \n",
      "Brightside - Borgeous Remix                                   Icona Pop  \n",
      "Like A Bitch - Kill The Noise Remix                      Kill The Noise  \n",
      "Candy                                                    Dillon Francis  \n",
      "Habit - Dack Janiels & Wenzday Remix                           Rain Man  \n",
      "First Contact                                                Twin Moons  \n",
      "I Wanna Get Better                                            Bleachers  \n",
      "\n",
      "[2017 rows x 16 columns]\n"
     ]
    }
   ],
   "source": [
    "import matplotlib.pyplot as plt\n",
    "from scipy.cluster.hierarchy import dendrogram, linkage, leaves_list\n",
    "from sklearn.cluster import KMeans\n",
    "import pandas as pd\n",
    "import numpy as np\n",
    "from pandas import DataFrame\n",
    "\n",
    "spotify_df = pd.read_csv('spotify.csv')\n",
    "spotify_df = spotify_df.set_index('song_title')"
   ]
  },
  {
   "cell_type": "markdown",
   "metadata": {
    "collapsed": true
   },
   "source": [
    "<b><font color=\"blue\" size = 4>b)</font> Stakeholder</b>: Describe your stakeholder. Who is the potential sponsor of your project? For example: a real estate investor, the police department, a city mayor, etc. "
   ]
  },
  {
   "cell_type": "markdown",
   "metadata": {},
   "source": [
    "<span style=\"background-color: #FFFF00\">Your answer here</span>"
   ]
  },
  {
   "cell_type": "code",
   "execution_count": null,
   "metadata": {
    "collapsed": true
   },
   "outputs": [],
   "source": []
  },
  {
   "cell_type": "markdown",
   "metadata": {
    "collapsed": true
   },
   "source": [
    "<b><font color=\"blue\" size = 4>c)</font> Objective</b>: Project objective, justification, expected outcome. How your results may impact your stake holders. Which decisions or changes will the stakeholder be able to make based on this project"
   ]
  },
  {
   "cell_type": "markdown",
   "metadata": {},
   "source": [
    "<span style=\"background-color: #FFFF00\">Your answer here</span>"
   ]
  },
  {
   "cell_type": "code",
   "execution_count": null,
   "metadata": {
    "collapsed": true
   },
   "outputs": [],
   "source": []
  },
  {
   "cell_type": "markdown",
   "metadata": {},
   "source": [
    "<b><font color=\"blue\" size = 4>d)</font> Background Research</b>: List here all other studies related to clustering published with the same dataset, and how your proposed study is different from them.\n",
    "\n",
    "If no other clustering studies were conducted with the same dataset, you should specify: \"No other studies available\""
   ]
  },
  {
   "cell_type": "markdown",
   "metadata": {},
   "source": [
    "<span style=\"background-color: #FFFF00\">Your answer here</span>"
   ]
  },
  {
   "cell_type": "code",
   "execution_count": null,
   "metadata": {
    "collapsed": true
   },
   "outputs": [],
   "source": []
  },
  {
   "cell_type": "markdown",
   "metadata": {},
   "source": [
    "<blockquote style=\"border: 2px solid #666; padding: 10px; background-color: #acc;\"><b>Question 2:</b> Exploratory Data Analysis</blockquote> "
   ]
  },
  {
   "cell_type": "markdown",
   "metadata": {},
   "source": [
    "Create some exploratory analysis on your data using core Python functions and visualizations. Cluster the information into different groups to explore the possibilities for your proposed project. Summarize your data and conduct some statistics. Explain your findings in English."
   ]
  },
  {
   "cell_type": "markdown",
   "metadata": {
    "collapsed": true
   },
   "source": [
    "<b><font color=\"blue\" size = 4>a)</font> Data Summary</b>: Show summary information of the different variables. Select the columns you are interested in. Explain each column, its range and purpose"
   ]
  },
  {
   "cell_type": "markdown",
   "metadata": {},
   "source": [
    "<span style=\"background-color: #FFFF00\">Your answer here</span>"
   ]
  },
  {
   "cell_type": "code",
   "execution_count": null,
   "metadata": {
    "collapsed": true
   },
   "outputs": [],
   "source": []
  },
  {
   "cell_type": "markdown",
   "metadata": {
    "collapsed": true
   },
   "source": [
    "<b><font color=\"blue\" size = 4>b)</font> Data Cleaning</b>: Clean the data, removing rows and columns that have no useful information or no information at all"
   ]
  },
  {
   "cell_type": "markdown",
   "metadata": {},
   "source": [
    "<span style=\"background-color: #FFFF00\">Your answer here</span>"
   ]
  },
  {
   "cell_type": "code",
   "execution_count": null,
   "metadata": {
    "collapsed": true
   },
   "outputs": [],
   "source": []
  },
  {
   "cell_type": "markdown",
   "metadata": {
    "collapsed": true
   },
   "source": [
    "<b><font color=\"blue\" size = 4>c)</font> Adaptation</b>: Create at least two additional columns that are necessary for your study. They can be calculated columns or aggregated columns."
   ]
  },
  {
   "cell_type": "markdown",
   "metadata": {},
   "source": [
    "<span style=\"background-color: #FFFF00\">Your answer here</span>"
   ]
  },
  {
   "cell_type": "markdown",
   "metadata": {},
   "source": [
    "<blockquote style=\"border: 2px solid #666; padding: 10px; background-color: #acc;\"><b>Question 3:</b> Visualization with MatPlotLib</blockquote> "
   ]
  },
  {
   "cell_type": "markdown",
   "metadata": {
    "collapsed": true
   },
   "source": [
    "<b><font color=\"blue\" size = 4>a)</font> Descriptive Analytics</b>: Create at least 5 different (unique) visualizations that show different aspects of your data related to the research object of your project"
   ]
  },
  {
   "cell_type": "markdown",
   "metadata": {},
   "source": [
    "<span style=\"background-color: #FFFF00\">Your answer here</span>"
   ]
  },
  {
   "cell_type": "markdown",
   "metadata": {
    "collapsed": true
   },
   "source": [
    "<b><font color=\"blue\" size = 4>b)</font> Outcome</b>: Explain in words the outcome of your descriptive analysis"
   ]
  },
  {
   "cell_type": "markdown",
   "metadata": {},
   "source": [
    "<span style=\"background-color: #FFFF00\">Your answer here</span>"
   ]
  },
  {
   "cell_type": "markdown",
   "metadata": {},
   "source": [
    "<blockquote style=\"border: 2px solid #666; padding: 10px; background-color: #acc;\"><b>Question 4:</b> Clustering</blockquote> "
   ]
  },
  {
   "cell_type": "markdown",
   "metadata": {},
   "source": [
    "Select a number of numerical columns to be used for your clustering algorithms. Explain the business logic of your clustering. Select expected number of clustering to explore."
   ]
  },
  {
   "cell_type": "markdown",
   "metadata": {
    "collapsed": true
   },
   "source": [
    "<b><font color=\"blue\" size = 4>a)</font>  Cluster Analysis</b>: Explain the business reason for your selection of the number of clusters."
   ]
  },
  {
   "cell_type": "markdown",
   "metadata": {},
   "source": [
    "<span style=\"background-color: #FFFF00\">Your answer here</span>"
   ]
  },
  {
   "cell_type": "code",
   "execution_count": null,
   "metadata": {
    "collapsed": true
   },
   "outputs": [],
   "source": []
  },
  {
   "cell_type": "markdown",
   "metadata": {
    "collapsed": true
   },
   "source": [
    "<b><font color=\"blue\" size = 4>b)</font> k-Means</b>: Cluster your data using k-means. Explain your results. Try two different schemas of clusters."
   ]
  },
  {
   "cell_type": "markdown",
   "metadata": {},
   "source": [
    "<span style=\"background-color: #FFFF00\">Your answer here</span>"
   ]
  },
  {
   "cell_type": "code",
   "execution_count": null,
   "metadata": {
    "collapsed": true
   },
   "outputs": [],
   "source": []
  },
  {
   "cell_type": "markdown",
   "metadata": {
    "collapsed": true
   },
   "source": [
    "<b><font color=\"blue\" size = 4>c)</font> Hierarchical Clustering</b>: Cluster your data using hierarchical clustering. Explain your results. Try two different schemas of clusters."
   ]
  },
  {
   "cell_type": "markdown",
   "metadata": {},
   "source": [
    "<span style=\"background-color: #FFFF00\">Your answer here</span>"
   ]
  },
  {
   "cell_type": "code",
   "execution_count": null,
   "metadata": {
    "collapsed": true
   },
   "outputs": [],
   "source": []
  },
  {
   "cell_type": "markdown",
   "metadata": {
    "collapsed": true
   },
   "source": [
    "<b><font color=\"blue\" size = 4>d)</font> kNN Clustering</b>: Use your results from the cluster analysis performed in a) or b) and create a short training set. Cluster your data using your training set on kNN. Explain your results."
   ]
  },
  {
   "cell_type": "markdown",
   "metadata": {},
   "source": [
    "<span style=\"background-color: #FFFF00\">Your answer here</span>"
   ]
  },
  {
   "cell_type": "code",
   "execution_count": null,
   "metadata": {
    "collapsed": true
   },
   "outputs": [],
   "source": []
  },
  {
   "cell_type": "markdown",
   "metadata": {},
   "source": [
    "<blockquote style=\"border: 2px solid #666; padding: 10px; background-color: #acc;\"><b>Question 5:</b> Summary</blockquote> "
   ]
  },
  {
   "cell_type": "markdown",
   "metadata": {
    "collapsed": true
   },
   "source": [
    "<b><font color=\"blue\" size = 4>a)</font> Project Summary</b>: Write a few sentences about the result of this project. How can your stakeholder benefit from the results of your project? Which changes or adaptations can your stakehoders make now that he has your results?"
   ]
  },
  {
   "cell_type": "markdown",
   "metadata": {},
   "source": [
    "<span style=\"background-color: #FFFF00\">Your answer here</span>"
   ]
  },
  {
   "cell_type": "code",
   "execution_count": null,
   "metadata": {
    "collapsed": true
   },
   "outputs": [],
   "source": []
  },
  {
   "cell_type": "markdown",
   "metadata": {
    "collapsed": true
   },
   "source": [
    "<b><font color=\"blue\" size = 4>b)</font> Project Report</b>: Write a formal report to your stakeholders with the summary of your report "
   ]
  },
  {
   "cell_type": "markdown",
   "metadata": {},
   "source": [
    "<span style=\"background-color: #FFFF00\">Your answer here</span>"
   ]
  },
  {
   "cell_type": "code",
   "execution_count": null,
   "metadata": {
    "collapsed": true
   },
   "outputs": [],
   "source": []
  }
 ],
 "metadata": {
  "kernelspec": {
   "display_name": "Python 3",
   "language": "python",
   "name": "python3"
  },
  "language_info": {
   "codemirror_mode": {
    "name": "ipython",
    "version": 3
   },
   "file_extension": ".py",
   "mimetype": "text/x-python",
   "name": "python",
   "nbconvert_exporter": "python",
   "pygments_lexer": "ipython3",
   "version": "3.6.6"
  }
 },
 "nbformat": 4,
 "nbformat_minor": 1
}
