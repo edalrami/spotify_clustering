{
 "cells": [
  {
   "cell_type": "markdown",
   "metadata": {
    "collapsed": true
   },
   "source": [
    "<p class=\"pull-left\">\n",
    "ANLT 212 - Analytics Computing\n",
    "</p>\n",
    "<div class=\"pull-right\">\n",
    "<ul class=\"list-inline\">\n",
    "Copyright © Dana Nehoran 2017\n",
    "</ul>\n",
    "</div>"
   ]
  },
  {
   "cell_type": "markdown",
   "metadata": {},
   "source": [
    "<div style=\"background-color: #A378AF; border:1px solid #000; margin-left: 2px; margin-right: 2px; \n",
    "padding-bottom: 2px; padding-left: 2px; padding-right: 1px; padding-top: 10px;\">\n",
    "<center><b><font size=\"6\">Group Project 2 - Python Project</font></b></center>\n",
    "</div>"
   ]
  },
  {
   "cell_type": "markdown",
   "metadata": {},
   "source": [
    "Student Names:"
   ]
  },
  {
   "cell_type": "markdown",
   "metadata": {
    "collapsed": true
   },
   "source": [
    "<center><font size = 10>Tyler Norlund & Edwin Ramirez</font></center>"
   ]
  },
  {
   "cell_type": "markdown",
   "metadata": {},
   "source": [
    "<blockquote style=\"border: 2px solid #666; padding: 10px; background-color: #acc;\"><b>Question 1:</b> Project Definition</blockquote> "
   ]
  },
  {
   "cell_type": "markdown",
   "metadata": {},
   "source": [
    "Select a dataset from the UCI Machine Learning Repository \n",
    "http://archive.ics.uci.edu/ml/datasets.html\n",
    "Your dataset should be different from the one utilized on project 1. \n",
    "\n",
    "Describe your stakeholder. Who is the potential sponsor of your project? For example: a real estate investor, the police department, a city mayor, etc. Explain what is the objective of this project and its justification. What are the findings so far, and what is your objective.\n",
    "\n",
    "Note: <br>\n",
    "If you want to select a dataset from a different public repository, you can.\n"
   ]
  },
  {
   "cell_type": "markdown",
   "metadata": {
    "collapsed": true
   },
   "source": [
    "<b><font color=\"blue\" size = 4>a)</font> Data Selection</b>: Explain why this data was selected. What are the overall characteristics of the data."
   ]
  },
  {
   "cell_type": "markdown",
   "metadata": {},
   "source": [
    "<span style=\"background-color: #FFFF00\">Your answer here</span>"
   ]
  },
  {
   "cell_type": "markdown",
   "metadata": {},
   "source": [
    "In this project, we use the [Spotify API](https://developer.spotify.com/). This was done in python using the [Spotipy](https://spotipy.readthedocs.io/en/latest/#) python library. Using python, we obtained Spotify's top playlists and stored each playlist in a CSV format."
   ]
  },
  {
   "cell_type": "code",
   "execution_count": 6,
   "metadata": {},
   "outputs": [
    {
     "name": "stdout",
     "output_type": "stream",
     "text": [
      "Everyday Favorites\n",
      "Rhythm & Dance\n",
      "LA Pops\n",
      "I Love My '90s Hip-Hop\n",
      "Doo-Wop Dee Doo\n",
      "'90s Pop Rock Essentials\n",
      "Autumn Acoustic\n",
      "Latin Pride\n",
      "Happy Hits!\n",
      "Country's Greatest Hits_  The '60s\n",
      "If It Wasn't For Gucci\n",
      "Urban Poet\n",
      "All Out 00s\n",
      "Viva Latino\n",
      "Energizing Classics\n",
      "Country's Greatest Hits_  The '80s\n",
      "Have a Great Day!\n",
      "NIKE RUNNING FASTEST MILE\n",
      "Calm Vibes\n",
      "El Bloque\n",
      "Love, Sex, & Water\n",
      "Latina Power_ Jackie Cruz\n",
      "You & Me\n",
      "I Love My 80's Rollerdisco\n",
      "Get Your Body Right\n",
      "No Wahala\n",
      "Crowd Pleasers\n",
      "Hot Rhythmic\n",
      "Sad Vibe\n",
      "State of Mind\n",
      "All Out 60s\n",
      "70s Rock Anthems\n",
      "Afropop.csv\n",
      "Confidence Boost\n",
      "RapCaviar\n",
      "2000s Smash Hits\n",
      "Tear Drop\n",
      "Made in Chile\n",
      "Warrior Workout\n",
      "Mind Right\n",
      "Spin Fit\n",
      "Cloud Rap\n",
      "Chinese Hip-Hop Stars\n",
      "One-Hit Wonders\n",
      "Indie Workout\n",
      "Fresh Finds_ Poptronix\n",
      "We Everywhere\n",
      "Bodega Sounds\n",
      "Lofi Hip-Hop\n",
      "Mood Booster\n",
      "Running & Workout\n",
      "Feeling Accomplished\n",
      "POLLEN\n",
      "Way Back Workout\n",
      "Beats & Rhymes\n",
      "Spin Class\n",
      "The Piano Lounge\n",
      "Global X\n",
      "Footwork Fever\n",
      "Tender\n",
      "Big Gains Workout\n",
      "50 Latin Classics\n",
      "Rockin' Vibes\n",
      "Born To Run 150 BPM\n",
      "EDM Workout\n",
      "Slay The Weights\n",
      "Persian Essentials\n",
      "Soul Coffee\n",
      "I Love My '80s Hip-Hop\n",
      "Pop Royalty\n",
      "Born in the USA\n",
      "New Music Friday\n",
      "Country's Greatest Hits_  The '40's\n",
      "All A Cappella\n",
      "Stay Wild\n",
      "Punk Rock Workout\n",
      "Corre con Rock\n",
      "Fresh Out The Rapper\n",
      "Extreme Metal Workout\n",
      "Piano in the Background\n",
      "All Out 70s\n",
      "Songs to Sing in the Shower\n",
      "Grime Instrumentals\n",
      "Feel-Good Indie Rock\n",
      "Chill Instrumental Beats\n",
      "Viral Hits\n",
      "Indie Sunshine\n",
      "Represent_ Mexico\n",
      "Black History Salute\n",
      "80s Rock Anthems\n",
      "Pop Matters\n",
      "Mellow Pop\n",
      "Motivation Mix\n",
      "Rock This\n",
      "Infinite Acoustic\n",
      "This Is A$AP Mob\n",
      "Latin Pop Classics\n",
      "Acoustic Hits\n",
      "Grime Shutdown\n",
      "A1 Hip-Hop\n",
      "Happy Folk\n",
      "Ultimate Pump Up\n",
      "Nike Running Tempo Mix\n",
      "Certified Gold\n",
      "100% LatinX\n",
      "The Britney Body Workout\n",
      "Rep The Set\n",
      "80s Smash Hits\n",
      "Adrenaline Workout\n",
      "Cumbia Anthems\n",
      "Latinos Unidos\n",
      "Represent_ Dominican Republic\n",
      "Exitos USA\n",
      "Cardio\n",
      "For Puerto Rico Por Puerto Rico\n",
      "Fitness Araby\n",
      "Hype Rhythm\n",
      "Salsa Hits_ Los 90s\n",
      "Represent_ Guatemala\n",
      "Alternative 90s\n",
      "Powerwalk!\n",
      "Guilty Pleasures\n",
      "Country's Greatest Hits_  The '50s\n",
      "La Troca\n",
      "Fresh & Chill\n",
      "Endorphin Rush\n",
      "Cool Down\n",
      "Country's Greatest Hits_  The '70's\n",
      "Raw Beats\n",
      "New Tejano\n",
      "Bedroom Pop\n",
      "Dance Classics\n",
      "Wake Up Happy\n",
      "80s Love Songs\n",
      "Fit & Smiling\n",
      "Nashville Stripped\n",
      "Hella Good New Millenia Hits\n",
      "The Realest Down South\n",
      "Alternative Hip Hop\n",
      "The Rhythm & Beats\n",
      "Happy Days\n",
      "Beast Mode\n",
      "Drifting Apart\n",
      "Contemporary Blend\n",
      "Gold School\n",
      "Fantastic K-Workout\n",
      "United States Top 50\n",
      "Lush Lofi\n",
      "Big 3\n",
      "Life Sucks\n",
      "Beats n' Bars\n",
      "Alternative 00s\n",
      "Acoustic Hits_ Oldies but Goodies\n",
      "Teen Party\n",
      "Chicano Fly Zone\n",
      "Wake Up Sweating\n",
      "La Barberia\n",
      "Global Viral 50\n",
      "Women of Pop\n",
      "Most Necessary\n",
      "Power Run 145 BPM\n",
      "Down In The Dumps\n",
      "Gameday - Golden State Warriors\n",
      "Pop Sauce\n",
      "NTC_ Studio Sounds\n",
      "Acoustic Covers\n",
      "Alternative 10s\n",
      "Hype\n",
      "Fresh Finds\n",
      "All Out 50s\n",
      "Low-Key\n",
      "Represent_ Puerto Rico\n",
      "Salsa Classics\n",
      "mint\n",
      "Lactic Acid Run 175 BPM\n",
      "Early Alternative\n",
      "60s Rock Anthems\n",
      "Pumped Pop\n",
      "Alternative 80s\n",
      "80s Hard Rock\n",
      "Creamy\n",
      "Out Now\n",
      "Are & Be\n",
      "Boleros\n",
      "Represent_ Brazil\n",
      "Bachata Classics\n",
      "Walk Like A Badass\n",
      "Reggaeton Classics\n",
      "Tomorrow's Hits\n",
      "Boogaloo Essentials\n",
      "Hip-Hop R&B Nation\n",
      "Signed XOXO\n",
      "Mambo Classics\n",
      "Wa-oh-wa-oh!\n",
      "Autumn Leaves\n",
      "Cali Fire\n",
      "Fiesta 90era\n",
      "Deep Dark Indie\n",
      "70s & 80s Acoustic\n",
      "Left of Center\n",
      "Rock Your Body\n",
      "Dreamy Vibes\n",
      "ThrowbackThursday\n",
      "Songs to Sing in the Car\n",
      "The Most Beautiful Songs in the World\n",
      "Eat Sleep Run Repeat 140 BPM\n",
      "Latin Cardio\n",
      "K-Hip-Hop Beats\n",
      "Mellow Styles\n",
      "00s Rock Anthems\n",
      "Tejano Classics\n",
      "The '80s All Lined Up\n",
      "Fangirls Run the World\n",
      "Love Ballads\n",
      "Mega Hit Mix\n",
      "Running Workout Goals\n",
      "It's ALT Good!\n",
      "One More Rep\n",
      "All Out 90s\n",
      "Para Entrenar\n",
      "Throwback_ Latin Explosion\n",
      "Clinically Cold\n",
      "Country's Greatest Hits_  The '90s\n",
      "Rock Me UP!\n",
      "Vibras\n",
      "Orgullo Afro-Latino\n",
      "Body & Soul\n",
      "Hot Country\n",
      "Anti Pop\n",
      "Skylar Diggins' Training Mix\n",
      "90's Hip-Hop Don't Stop\n",
      "All The Feels\n",
      "Jock Jams\n",
      "African Heat\n",
      "Your Favorite Coffeehouse\n",
      "Good Vibes\n",
      "Country Coffeehouse\n",
      "All Out 80s\n",
      "Now Hear This\n",
      "Workout Groove\n",
      "Lowkey Flex\n",
      "Soft Pop Hits\n",
      "LatinX Indie\n",
      "Feelin' Good\n",
      "Epic Workout\n",
      "Retro Pop\n",
      "Hit Rewind\n",
      "Ill Lyricist\n",
      "Off the Strength\n",
      "Throwback Workout\n",
      "Global Top 50\n",
      "Alternative 70s\n",
      "NTC_ High Intensity Training Tracks\n",
      "Sawa\n",
      "A Perfect Day\n",
      "Pop Warmup 130 BPM\n",
      "90s Rock Anthems\n",
      "HIIT-Hop\n",
      "Hard Rock Workout\n",
      "Fresh Finds_ Fire Emoji\n",
      "90s Acoustic\n",
      "Energetic Run 160-165 BPM\n",
      "Trap Instrumental Beats\n",
      "Latin Party Anthems\n",
      "Mellow Bars\n",
      "Power Workout\n",
      "Just Get Going! 155 BPM\n",
      "Straight Off The Porch\n",
      "Alternative 60s\n",
      "Sad Beats\n",
      "NTC_ Gym Strong\n",
      "The Birth of Rhythm & Blues\n",
      "Happy Beats\n",
      "Pop Chile\n",
      "Rap UK\n",
      "The GRAMMYs Official Playlist\n",
      "Pop Rising\n",
      "United States Viral 50\n",
      "Get Turnt\n",
      "Pumping Iron\n",
      "Lounge - Soft House\n",
      "Represent_ Cuba\n",
      "Workday_ Pop\n",
      "Hip Hop Made Me\n",
      "Wild Cards_ Winter Mix\n",
      "Weekend Hangouts\n",
      "Swagger\n",
      "Represent_ Colombia\n",
      "LADY GAGA  JOANNE\n",
      "Latin Jazz\n",
      "G.O.O.D. Music\n",
      "Young & Free\n",
      "Radio 1 Playlist (BBC)\n",
      "Canciones del Recuerdo\n",
      "All Aussie Hip-Hop\n",
      "Abuela's Mix\n",
      "Good Times_ Great Oldies\n",
      "Today's Top Hits\n",
      "Workout Twerkout\n",
      "Soak Up the Sun\n"
     ]
    }
   ],
   "source": [
    "import matplotlib.pyplot as plt\n",
    "from scipy.cluster.hierarchy import dendrogram, linkage, leaves_list\n",
    "from sklearn.cluster import KMeans\n",
    "import pandas as pd\n",
    "import numpy as np\n",
    "from pandas import DataFrame\n",
    "from os import listdir\n",
    "from os.path import isfile, join\n",
    "\n",
    "\n",
    "playlists = [f for f in listdir('./playlists/') if isfile(join('./playlists/', f))]\n",
    "for playlist in playlists:\n",
    "    print(playlist)"
   ]
  },
  {
   "cell_type": "markdown",
   "metadata": {
    "collapsed": true
   },
   "source": [
    "<b><font color=\"blue\" size = 4>b)</font> Stakeholder</b>: Describe your stakeholder. Who is the potential sponsor of your project? For example: a real estate investor, the police department, a city mayor, etc. "
   ]
  },
  {
   "cell_type": "markdown",
   "metadata": {},
   "source": [
    "<span style=\"background-color: #FFFF00\">Your answer here</span>"
   ]
  },
  {
   "cell_type": "markdown",
   "metadata": {
    "collapsed": true
   },
   "source": [
    "In this project, Spotify and music producers would be the stakeholders."
   ]
  },
  {
   "cell_type": "markdown",
   "metadata": {
    "collapsed": true
   },
   "source": [
    "<b><font color=\"blue\" size = 4>c)</font> Objective</b>: Project objective, justification, expected outcome. How your results may impact your stake holders. Which decisions or changes will the stakeholder be able to make based on this project"
   ]
  },
  {
   "cell_type": "markdown",
   "metadata": {},
   "source": [
    "<span style=\"background-color: #FFFF00\">Your answer here</span>"
   ]
  },
  {
   "cell_type": "markdown",
   "metadata": {
    "collapsed": true
   },
   "source": [
    "In this project we will classify songs based on the genres the songs belong to. This would help spotify better understand the types of songs people listen to and give Sp"
   ]
  },
  {
   "cell_type": "markdown",
   "metadata": {},
   "source": [
    "<b><font color=\"blue\" size = 4>d)</font> Background Research</b>: List here all other studies related to clustering published with the same dataset, and how your proposed study is different from them.\n",
    "\n",
    "If no other clustering studies were conducted with the same dataset, you should specify: \"No other studies available\""
   ]
  },
  {
   "cell_type": "markdown",
   "metadata": {},
   "source": [
    "<span style=\"background-color: #FFFF00\">Your answer here</span>"
   ]
  },
  {
   "cell_type": "code",
   "execution_count": null,
   "metadata": {
    "collapsed": true
   },
   "outputs": [],
   "source": []
  },
  {
   "cell_type": "markdown",
   "metadata": {},
   "source": [
    "<blockquote style=\"border: 2px solid #666; padding: 10px; background-color: #acc;\"><b>Question 2:</b> Exploratory Data Analysis</blockquote> "
   ]
  },
  {
   "cell_type": "markdown",
   "metadata": {},
   "source": [
    "Create some exploratory analysis on your data using core Python functions and visualizations. Cluster the information into different groups to explore the possibilities for your proposed project. Summarize your data and conduct some statistics. Explain your findings in English."
   ]
  },
  {
   "cell_type": "markdown",
   "metadata": {
    "collapsed": true
   },
   "source": [
    "<b><font color=\"blue\" size = 4>a)</font> Data Summary</b>: Show summary information of the different variables. Select the columns you are interested in. Explain each column, its range and purpose"
   ]
  },
  {
   "cell_type": "markdown",
   "metadata": {},
   "source": [
    "<span style=\"background-color: #FFFF00\">Your answer here</span>"
   ]
  },
  {
   "cell_type": "code",
   "execution_count": null,
   "metadata": {
    "collapsed": true
   },
   "outputs": [],
   "source": []
  },
  {
   "cell_type": "markdown",
   "metadata": {
    "collapsed": true
   },
   "source": [
    "<b><font color=\"blue\" size = 4>b)</font> Data Cleaning</b>: Clean the data, removing rows and columns that have no useful information or no information at all"
   ]
  },
  {
   "cell_type": "markdown",
   "metadata": {},
   "source": [
    "<span style=\"background-color: #FFFF00\">Your answer here</span>"
   ]
  },
  {
   "cell_type": "code",
   "execution_count": null,
   "metadata": {
    "collapsed": true
   },
   "outputs": [],
   "source": []
  },
  {
   "cell_type": "markdown",
   "metadata": {
    "collapsed": true
   },
   "source": [
    "<b><font color=\"blue\" size = 4>c)</font> Adaptation</b>: Create at least two additional columns that are necessary for your study. They can be calculated columns or aggregated columns."
   ]
  },
  {
   "cell_type": "markdown",
   "metadata": {},
   "source": [
    "<span style=\"background-color: #FFFF00\">Your answer here</span>"
   ]
  },
  {
   "cell_type": "markdown",
   "metadata": {},
   "source": [
    "<blockquote style=\"border: 2px solid #666; padding: 10px; background-color: #acc;\"><b>Question 3:</b> Visualization with MatPlotLib</blockquote> "
   ]
  },
  {
   "cell_type": "markdown",
   "metadata": {
    "collapsed": true
   },
   "source": [
    "<b><font color=\"blue\" size = 4>a)</font> Descriptive Analytics</b>: Create at least 5 different (unique) visualizations that show different aspects of your data related to the research object of your project"
   ]
  },
  {
   "cell_type": "markdown",
   "metadata": {},
   "source": [
    "<span style=\"background-color: #FFFF00\">Your answer here</span>"
   ]
  },
  {
   "cell_type": "markdown",
   "metadata": {
    "collapsed": true
   },
   "source": [
    "<b><font color=\"blue\" size = 4>b)</font> Outcome</b>: Explain in words the outcome of your descriptive analysis"
   ]
  },
  {
   "cell_type": "markdown",
   "metadata": {},
   "source": [
    "<span style=\"background-color: #FFFF00\">Your answer here</span>"
   ]
  },
  {
   "cell_type": "markdown",
   "metadata": {},
   "source": [
    "<blockquote style=\"border: 2px solid #666; padding: 10px; background-color: #acc;\"><b>Question 4:</b> Clustering</blockquote> "
   ]
  },
  {
   "cell_type": "markdown",
   "metadata": {},
   "source": [
    "Select a number of numerical columns to be used for your clustering algorithms. Explain the business logic of your clustering. Select expected number of clustering to explore."
   ]
  },
  {
   "cell_type": "markdown",
   "metadata": {
    "collapsed": true
   },
   "source": [
    "<b><font color=\"blue\" size = 4>a)</font>  Cluster Analysis</b>: Explain the business reason for your selection of the number of clusters."
   ]
  },
  {
   "cell_type": "markdown",
   "metadata": {},
   "source": [
    "<span style=\"background-color: #FFFF00\">Your answer here</span>"
   ]
  },
  {
   "cell_type": "code",
   "execution_count": null,
   "metadata": {
    "collapsed": true
   },
   "outputs": [],
   "source": []
  },
  {
   "cell_type": "markdown",
   "metadata": {
    "collapsed": true
   },
   "source": [
    "<b><font color=\"blue\" size = 4>b)</font> k-Means</b>: Cluster your data using k-means. Explain your results. Try two different schemas of clusters."
   ]
  },
  {
   "cell_type": "markdown",
   "metadata": {},
   "source": [
    "<span style=\"background-color: #FFFF00\">Your answer here</span>"
   ]
  },
  {
   "cell_type": "code",
   "execution_count": null,
   "metadata": {
    "collapsed": true
   },
   "outputs": [],
   "source": []
  },
  {
   "cell_type": "markdown",
   "metadata": {
    "collapsed": true
   },
   "source": [
    "<b><font color=\"blue\" size = 4>c)</font> Hierarchical Clustering</b>: Cluster your data using hierarchical clustering. Explain your results. Try two different schemas of clusters."
   ]
  },
  {
   "cell_type": "markdown",
   "metadata": {},
   "source": [
    "<span style=\"background-color: #FFFF00\">Your answer here</span>"
   ]
  },
  {
   "cell_type": "code",
   "execution_count": null,
   "metadata": {
    "collapsed": true
   },
   "outputs": [],
   "source": []
  },
  {
   "cell_type": "markdown",
   "metadata": {
    "collapsed": true
   },
   "source": [
    "<b><font color=\"blue\" size = 4>d)</font> kNN Clustering</b>: Use your results from the cluster analysis performed in a) or b) and create a short training set. Cluster your data using your training set on kNN. Explain your results."
   ]
  },
  {
   "cell_type": "markdown",
   "metadata": {},
   "source": [
    "<span style=\"background-color: #FFFF00\">Your answer here</span>"
   ]
  },
  {
   "cell_type": "code",
   "execution_count": null,
   "metadata": {
    "collapsed": true
   },
   "outputs": [],
   "source": []
  },
  {
   "cell_type": "markdown",
   "metadata": {},
   "source": [
    "<blockquote style=\"border: 2px solid #666; padding: 10px; background-color: #acc;\"><b>Question 5:</b> Summary</blockquote> "
   ]
  },
  {
   "cell_type": "markdown",
   "metadata": {
    "collapsed": true
   },
   "source": [
    "<b><font color=\"blue\" size = 4>a)</font> Project Summary</b>: Write a few sentences about the result of this project. How can your stakeholder benefit from the results of your project? Which changes or adaptations can your stakehoders make now that he has your results?"
   ]
  },
  {
   "cell_type": "markdown",
   "metadata": {},
   "source": [
    "<span style=\"background-color: #FFFF00\">Your answer here</span>"
   ]
  },
  {
   "cell_type": "code",
   "execution_count": null,
   "metadata": {
    "collapsed": true
   },
   "outputs": [],
   "source": []
  },
  {
   "cell_type": "markdown",
   "metadata": {
    "collapsed": true
   },
   "source": [
    "<b><font color=\"blue\" size = 4>b)</font> Project Report</b>: Write a formal report to your stakeholders with the summary of your report "
   ]
  },
  {
   "cell_type": "markdown",
   "metadata": {},
   "source": [
    "<span style=\"background-color: #FFFF00\">Your answer here</span>"
   ]
  },
  {
   "cell_type": "code",
   "execution_count": null,
   "metadata": {
    "collapsed": true
   },
   "outputs": [],
   "source": []
  }
 ],
 "metadata": {
  "kernelspec": {
   "display_name": "Python 3",
   "language": "python",
   "name": "python3"
  },
  "language_info": {
   "codemirror_mode": {
    "name": "ipython",
    "version": 3
   },
   "file_extension": ".py",
   "mimetype": "text/x-python",
   "name": "python",
   "nbconvert_exporter": "python",
   "pygments_lexer": "ipython3",
   "version": "3.6.6"
  }
 },
 "nbformat": 4,
 "nbformat_minor": 1
}
